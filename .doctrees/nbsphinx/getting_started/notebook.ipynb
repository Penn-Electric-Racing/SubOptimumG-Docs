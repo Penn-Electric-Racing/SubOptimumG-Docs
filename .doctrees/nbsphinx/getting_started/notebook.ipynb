{
 "cells": [
  {
   "cell_type": "markdown",
   "metadata": {},
   "source": [
    "### SuboptimumG Tutorial\n",
    " \n",
    "This notebook will showcase how to use the key features of SuboptimumG. Note that if you ever modify the source code of the package. You have to **restart the kernel** so that your changes are detected! (Hit the \"Restart\" button on VSCode)."
   ]
  },
  {
   "cell_type": "markdown",
   "metadata": {},
   "source": [
    "#### Simulating a Single Competition\n",
    "\n",
    "We start by simulating the results of a single competition with the default car (REV 9). We load in competition-wide parameters (tracks, competitor statistics, simulation hyperparameters, etc.) from competition.yaml. We load in car-specific parameters from car.yaml. Check these yaml files to see what SuboptimumG currently takes into account and to edit the defaults."
   ]
  },
  {
   "cell_type": "markdown",
   "metadata": {},
   "source": [
    "Observe that there are soft plausibility warnings when a parameter is outside of an expected range."
   ]
  },
  {
   "cell_type": "code",
   "execution_count": null,
   "metadata": {},
   "outputs": [],
   "source": [
    "import suboptimumg\n",
    "import yaml\n",
    "\n",
    "# Update sheets.yaml with the latest values on Google Drive.\n",
    "# suboptimumg.sheet_to_yaml.grab_sheet_data()\n",
    "with open(\"../parameters/sheet.yaml\", \"r\") as file:\n",
    "    sheets_config = yaml.safe_load(file)\n",
    "\n",
    "# Create sample competition\n",
    "with open(\"../parameters/competition.yaml\", \"r\") as file:\n",
    "    comp_config = yaml.safe_load(file)\n",
    "\n",
    "# NOTE: Those numbers are less verified, could cause unexpected crashes!\n",
    "# with open(\"../parameters/car.yaml\", \"r\") as file:\n",
    "#     car_config = yaml.safe_load(file)\n",
    "\n",
    "# This is based off the sheet.yaml file\n",
    "michigan2023_revX = suboptimumg.compsim.Competition.from_config(\n",
    "    comp_config=comp_config, car_config=sheets_config\n",
    ")"
   ]
  },
  {
   "cell_type": "markdown",
   "metadata": {},
   "source": [
    "We run the competition by calling .run() on the competition object. Then, we can print out our point totals and graph some more detailed information, in this case power v.s. time during the Accel event."
   ]
  },
  {
   "cell_type": "code",
   "execution_count": null,
   "metadata": {},
   "outputs": [],
   "source": [
    "import numpy as np\n",
    "from suboptimumg.plotting.utils import pretty_print_results\n",
    "from suboptimumg.plotting.generic_plot import plot2D\n",
    "\n",
    "# Run sample competition\n",
    "accel_results, skidpad_results, autoX_results, endurance_results, efficiency_points = (\n",
    "    michigan2023_revX.run()\n",
    ")\n",
    "pretty_print_results(\n",
    "    accel_results, skidpad_results, autoX_results, endurance_results, efficiency_points\n",
    ")\n",
    "\n",
    "plot2D(\n",
    "    x_list=np.array(endurance_results.time_list),\n",
    "    y_list=np.array(endurance_results.power_list) / 1000,\n",
    "    title=\"Power Usage over a Single Endurance Lap\",\n",
    "    x_axis=\"Time since Lap Start (s)\",\n",
    "    y_axis=\"Power (kW)\",\n",
    "    theme=\"powertrain\",\n",
    ")\n",
    "\n",
    "print(\"Power Statistics:\")\n",
    "print(f\"Max Power: {max(endurance_results.power_list) / 1000} kW\")\n",
    "print(f\"Min Power: {min(endurance_results.power_list) / 1000} kW\")\n",
    "print(\n",
    "    f\"Avg Power: {sum(endurance_results.power_list) / len(endurance_results.power_list) / 1000} kW\"\n",
    ")"
   ]
  },
  {
   "cell_type": "markdown",
   "metadata": {},
   "source": [
    "We can also use custom functions to visualize the tracks that were used as part of the simulation. map_color and map_3d are function built on top of track_vis that map a second variable onto the track, to show the simulated instantaneous velocity and power consumption of the car at every point."
   ]
  },
  {
   "cell_type": "code",
   "execution_count": null,
   "metadata": {},
   "outputs": [],
   "source": [
    "track_vertices = suboptimumg.plotting.track_vis(\n",
    "    michigan2023_revX.get_endurance_track(), magic_scale=0.064, start_angle_deg=80\n",
    ")\n",
    "\n",
    "suboptimumg.plotting.map_color(\n",
    "    track_verts=track_vertices,\n",
    "    variable=endurance_results.vel_list,\n",
    "    label=\"Speed (m/s)\",\n",
    "    norm_min=0,\n",
    "    norm_max=31,\n",
    ")"
   ]
  },
  {
   "cell_type": "markdown",
   "metadata": {},
   "source": [
    "#### Sweeps\n",
    "\n",
    "Now we move on to the Sweep functionality, an abstraction built on top of single competition simulations, that allow us to vary one or two parameters, and observe how that affects competition results."
   ]
  },
  {
   "cell_type": "markdown",
   "metadata": {},
   "source": [
    "We first define a sweep variable by creating a Python dictionary with four items. \"variable\" is the name of the variable. To get the correct name, take reference from the names in Car.yaml, and nest parameters using dots. For example, the MOC efficiency should be referred to as \"pwrtn.motor.moc_efficiency\", and the mass of the car is just \"mass\"."
   ]
  },
  {
   "cell_type": "markdown",
   "metadata": {},
   "source": [
    "Observe that plausibility checks are done on the car configurations at both bounds of the sweep. In a 2-variable sweep, four sets of bounds are checked for plausibility."
   ]
  },
  {
   "cell_type": "code",
   "execution_count": null,
   "metadata": {},
   "outputs": [],
   "source": [
    "from suboptimumg.sweep import *\n",
    "\n",
    "sweep_var_1 = {\n",
    "    \"variable\": \"mass\",\n",
    "    \"min\": 200,\n",
    "    \"max\": 300,\n",
    "    \"steps\": 50,\n",
    "}\n",
    "mass_sweep = create_sweeper(\n",
    "    comp_config=comp_config, default_car_config=sheets_config, var_1=sweep_var_1\n",
    ")\n",
    "mass_results = mass_sweep.sweep()"
   ]
  },
  {
   "cell_type": "markdown",
   "metadata": {},
   "source": [
    "Calling .sweep() on the Sweeper class object returns a SweepResults object. We can produce graphs with this SweepResults object. By default, the y-variable in the graph is the total number of points earned in a competition. Optionally, we can also choose to graph other y-variables such as event times and event points by passing arguments like y_var=\"accel_pts\" (indicating Accel event points) or y_var=\"endurance_t\" (indicating time taken to complete Endurance event)."
   ]
  },
  {
   "cell_type": "code",
   "execution_count": null,
   "metadata": {},
   "outputs": [],
   "source": [
    "mass_results.plot(\n",
    "    x_label=\"Mass (kg)\",\n",
    "    y_label=\"Total Points\",\n",
    "    title=\"Mass Sweep - Total Points\",\n",
    ")"
   ]
  },
  {
   "cell_type": "markdown",
   "metadata": {},
   "source": [
    "We can also compute interpolated points/times (y_var) and first derivatives for any given x-value within range of the sweep."
   ]
  },
  {
   "cell_type": "code",
   "execution_count": null,
   "metadata": {},
   "outputs": [],
   "source": [
    "print(f\"Total points @ mass=257kg: {mass_results.y_at_x(x=257)}\")\n",
    "print(\n",
    "    f\"Change in points for every 1kg increase in mass @ mass=257kg: {mass_results.dydx_at_x(x=257)}\"\n",
    ")"
   ]
  },
  {
   "cell_type": "markdown",
   "metadata": {},
   "source": [
    "The Sweeper class object also supports 2-parameter sweeps."
   ]
  },
  {
   "cell_type": "code",
   "execution_count": null,
   "metadata": {},
   "outputs": [],
   "source": [
    "from suboptimumg.sweep import *\n",
    "\n",
    "sweep_var_1 = {\n",
    "    \"variable\": \"aero.cl\",\n",
    "    \"min\": 2.8,\n",
    "    \"max\": 3.8,\n",
    "    \"steps\": 15,\n",
    "}\n",
    "\n",
    "sweep_var_2 = {\n",
    "    \"variable\": \"aero.cd\",\n",
    "    \"min\": 1.0,\n",
    "    \"max\": 2.0,\n",
    "    \"steps\": 15,\n",
    "}\n",
    "\n",
    "aero_sweep = create_sweeper(\n",
    "    comp_config=comp_config,\n",
    "    default_car_config=sheets_config,\n",
    "    var_1=sweep_var_1,\n",
    "    var_2=sweep_var_2,\n",
    ")\n",
    "aero_results = aero_sweep.sweep()"
   ]
  },
  {
   "cell_type": "markdown",
   "metadata": {},
   "source": [
    "For 2-parameter sweep results, we can likewise compute interpolated points/times (z_var) and partial derivatives at any given pair of parameters within the sweep range."
   ]
  },
  {
   "cell_type": "code",
   "execution_count": null,
   "metadata": {},
   "outputs": [],
   "source": [
    "# x refers to var_1 (aero.cl in this case) and y refers to var_2 (aero.cd in this case)\n",
    "print(f\"Total points @ cl=3.55, cd=1.65: {aero_results.z_at_xy(x=3.55, y=1.65)}\")\n",
    "print(\n",
    "    f\"Additional point gain for every 1.0 increase in cl @ cl=3.55, cd=1.65: {aero_results.dzdx_at_xy(x=3.55, y=1.65)}\"\n",
    ")\n",
    "print(\n",
    "    f\"Additional point gain for every 1.0 increase in cd @ cl=3.55, cd=1.65: {aero_results.dzdy_at_xy(x=3.55, y=1.65)}\"\n",
    ")"
   ]
  },
  {
   "cell_type": "markdown",
   "metadata": {},
   "source": [
    "For 2-parameter sweep results, we have a choice between two types of graphs to represent the data. Call either .plot_contour() or .plot_surface(). Again, the target variable is by default total points, but can be controlled by passing an argument like z_var=\"endurance_pts\"."
   ]
  },
  {
   "cell_type": "code",
   "execution_count": null,
   "metadata": {},
   "outputs": [],
   "source": [
    "aero_results.plot_contour(\n",
    "    x_label=\"CL\", y_label=\"CD\", z_label=\"Total Points\", title=\"CL vs CD Sweep\"\n",
    ")"
   ]
  },
  {
   "cell_type": "code",
   "execution_count": null,
   "metadata": {},
   "outputs": [],
   "source": [
    "aero_results.plot_surface(\n",
    "    view_angle=120,\n",
    "    x_label=\"CL\",\n",
    "    y_label=\"CD\",\n",
    "    z_label=\"Total Points\",\n",
    "    title=\"CL vs CD Sweep\",\n",
    ")"
   ]
  },
  {
   "cell_type": "markdown",
   "metadata": {},
   "source": [
    "We can do a full vehicle parameter sweep by using the ArraySweeper class\n",
    "\n",
    "This takes in the following parameters:\n",
    "- comp_config: competition-wide parameters\n",
    "- default_car_config: default car parameters\n",
    "- var_list: list of variables to sweep e.g. [\"mass\", \"pwrtn.motor.moc_efficiency\"]\n",
    "- var_percent_step_list: list of percent steps to sweep default is:\n",
    "    [-0.1, -0.08, -0.06, -0.04, -0.02, 0, 0.02, 0.04, 0.06, 0.08, 0.1]\n"
   ]
  },
  {
   "cell_type": "code",
   "execution_count": null,
   "metadata": {},
   "outputs": [],
   "source": [
    "from suboptimumg.sweep import ArraySweeper\n",
    "\n",
    "arr_sweep_params = [\n",
    "    \"mass\",\n",
    "    \"w_distr_b\",\n",
    "    \"cg_h\",\n",
    "    \"wb\",\n",
    "    \"front_track\",\n",
    "    \"rear_track\",\n",
    "    \"aero.cl\",\n",
    "    \"aero.cd\",\n",
    "    \"aero.front_area\",\n",
    "    \"aero.cop\",\n",
    "    \"pwrtn.ratio\",\n",
    "]\n",
    "arr_sweep = ArraySweeper(\n",
    "    comp_config=comp_config, default_car_config=sheets_config, var_list=arr_sweep_params\n",
    ")\n",
    "arr_sweep_results = arr_sweep.sweep(verbose=True)"
   ]
  },
  {
   "cell_type": "code",
   "execution_count": null,
   "metadata": {},
   "outputs": [],
   "source": [
    "arr_sweep_results.plot(\n",
    "    y_label=\"Total Points\",\n",
    "    title=\"Array Sweep - Total Points\",\n",
    ")"
   ]
  },
  {
   "cell_type": "code",
   "execution_count": null,
   "metadata": {},
   "outputs": [],
   "source": []
  }
 ],
 "metadata": {
  "kernelspec": {
   "display_name": ".venv",
   "language": "python",
   "name": "python3"
  },
  "language_info": {
   "codemirror_mode": {
    "name": "ipython",
    "version": 3
   },
   "file_extension": ".py",
   "mimetype": "text/x-python",
   "name": "python",
   "nbconvert_exporter": "python",
   "pygments_lexer": "ipython3",
   "version": "3.13.1"
  }
 },
 "nbformat": 4,
 "nbformat_minor": 2
}
